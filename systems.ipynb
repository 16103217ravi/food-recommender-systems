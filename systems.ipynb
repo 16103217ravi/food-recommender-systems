{
 "cells": [
  {
   "cell_type": "markdown",
   "metadata": {},
   "source": [
    "#  Food Recommender Systems"
   ]
  },
  {
   "cell_type": "markdown",
   "metadata": {},
   "source": [
    "An attempt to produce a nutrient-based meal recommender that makes meal recommendations catering to users’ fine-grained food preferences and nutritional needs through the use of machine learning techniques."
   ]
  },
  {
   "cell_type": "markdown",
   "metadata": {},
   "source": [
    "## Methodology"
   ]
  },
  {
   "cell_type": "markdown",
   "metadata": {},
   "source": [
    "We will be trying to develop a cluster of similar food items using the dataset consists of food items and their corresponding calorie content, protein content and the ingredients they are made of."
   ]
  },
  {
   "cell_type": "markdown",
   "metadata": {},
   "source": [
    "Firstly, We will be importing the required Python libraries."
   ]
  },
  {
   "cell_type": "code",
   "execution_count": 91,
   "metadata": {},
   "outputs": [],
   "source": [
    "import numpy as np\n",
    "import pandas as pd\n",
    "import matplotlib.pyplot as plt\n",
    "from sklearn.cluster import KMeans\n",
    "from sklearn.preprocessing import OneHotEncoder\n",
    "from sklearn.ensemble import RandomForestRegressor\n",
    "from sklearn.model_selection import cross_val_score\n",
    "from sklearn.model_selection import train_test_split\n",
    "from sklearn.decomposition import TruncatedSVD, PCA\n",
    "import pickle\n",
    "import random\n",
    "import seaborn as sns"
   ]
  },
  {
   "cell_type": "code",
   "execution_count": 63,
   "metadata": {},
   "outputs": [
    {
     "data": {
      "text/html": [
       "<div>\n",
       "<style scoped>\n",
       "    .dataframe tbody tr th:only-of-type {\n",
       "        vertical-align: middle;\n",
       "    }\n",
       "\n",
       "    .dataframe tbody tr th {\n",
       "        vertical-align: top;\n",
       "    }\n",
       "\n",
       "    .dataframe thead th {\n",
       "        text-align: right;\n",
       "    }\n",
       "</style>\n",
       "<table border=\"1\" class=\"dataframe\">\n",
       "  <thead>\n",
       "    <tr style=\"text-align: right;\">\n",
       "      <th></th>\n",
       "      <th>Gender</th>\n",
       "      <th>Height</th>\n",
       "      <th>Weight</th>\n",
       "      <th>Index</th>\n",
       "      <th>bmi</th>\n",
       "      <th>active</th>\n",
       "      <th>calorie_needs</th>\n",
       "    </tr>\n",
       "  </thead>\n",
       "  <tbody>\n",
       "    <tr>\n",
       "      <th>0</th>\n",
       "      <td>1</td>\n",
       "      <td>1.74</td>\n",
       "      <td>96</td>\n",
       "      <td>4</td>\n",
       "      <td>31.708284</td>\n",
       "      <td>0</td>\n",
       "      <td>2119</td>\n",
       "    </tr>\n",
       "    <tr>\n",
       "      <th>1</th>\n",
       "      <td>1</td>\n",
       "      <td>1.89</td>\n",
       "      <td>87</td>\n",
       "      <td>2</td>\n",
       "      <td>24.355421</td>\n",
       "      <td>2</td>\n",
       "      <td>3456</td>\n",
       "    </tr>\n",
       "    <tr>\n",
       "      <th>2</th>\n",
       "      <td>0</td>\n",
       "      <td>1.85</td>\n",
       "      <td>110</td>\n",
       "      <td>4</td>\n",
       "      <td>32.140248</td>\n",
       "      <td>0</td>\n",
       "      <td>2428</td>\n",
       "    </tr>\n",
       "    <tr>\n",
       "      <th>3</th>\n",
       "      <td>0</td>\n",
       "      <td>1.95</td>\n",
       "      <td>104</td>\n",
       "      <td>3</td>\n",
       "      <td>27.350427</td>\n",
       "      <td>1</td>\n",
       "      <td>2295</td>\n",
       "    </tr>\n",
       "    <tr>\n",
       "      <th>4</th>\n",
       "      <td>1</td>\n",
       "      <td>1.49</td>\n",
       "      <td>61</td>\n",
       "      <td>3</td>\n",
       "      <td>27.476240</td>\n",
       "      <td>2</td>\n",
       "      <td>1346</td>\n",
       "    </tr>\n",
       "  </tbody>\n",
       "</table>\n",
       "</div>"
      ],
      "text/plain": [
       "   Gender  Height  Weight  Index        bmi  active  calorie_needs\n",
       "0       1    1.74      96      4  31.708284       0           2119\n",
       "1       1    1.89      87      2  24.355421       2           3456\n",
       "2       0    1.85     110      4  32.140248       0           2428\n",
       "3       0    1.95     104      3  27.350427       1           2295\n",
       "4       1    1.49      61      3  27.476240       2           1346"
      ]
     },
     "execution_count": 63,
     "metadata": {},
     "output_type": "execute_result"
    }
   ],
   "source": [
    "dataset = pd.read_csv('refined_rel.csv')\n",
    "dataset.head()"
   ]
  },
  {
   "cell_type": "code",
   "execution_count": 64,
   "metadata": {},
   "outputs": [
    {
     "data": {
      "text/plain": [
       "<matplotlib.axes._subplots.AxesSubplot at 0x7f533d2c6f28>"
      ]
     },
     "execution_count": 64,
     "metadata": {},
     "output_type": "execute_result"
    },
    {
     "data": {
      "image/png": "[encoded data removed]",
      "text/plain": [
       "<Figure size 720x504 with 1 Axes>"
      ]
     },
     "metadata": {},
     "output_type": "display_data"
    }
   ],
   "source": [
    "dataset.bmi[(dataset.bmi<=18.5)].hist(figsize=(10,7))\n",
    "dataset.bmi[(dataset.bmi>18.5) & (dataset.bmi<=24.9)].hist(figsize=(10,7))\n",
    "dataset.bmi[(dataset.bmi>24.9) & (dataset.bmi<40)].hist(figsize=(10,7))"
   ]
  },
  {
   "cell_type": "markdown",
   "metadata": {},
   "source": [
    "Less than 18.5 > Undernourished (Requires medical guidance)\n",
    "\n",
    "18.5 to 24.9 > Normal BMI\n",
    "\n",
    "greater 24.9 > Overnourished"
   ]
  },
  {
   "cell_type": "code",
   "execution_count": 65,
   "metadata": {},
   "outputs": [
    {
     "data": {
      "text/plain": [
       "array([[  1.74      ,  96.        ,  31.70828379,   0.        ],\n",
       "       [  1.89      ,  87.        ,  24.35542118,   2.        ],\n",
       "       [  1.85      , 110.        ,  32.14024836,   0.        ],\n",
       "       ...,\n",
       "       [  1.41      , 136.        ,  68.40702178,   0.        ],\n",
       "       [  1.5       ,  95.        ,  42.22222222,   0.        ],\n",
       "       [  1.73      , 131.        ,  43.77025627,   1.        ]])"
      ]
     },
     "execution_count": 65,
     "metadata": {},
     "output_type": "execute_result"
    }
   ],
   "source": [
    "X = dataset.iloc[:,[1,2,4,5]].values\n",
    "y = dataset.iloc[:, 6].values\n",
    "X"
   ]
  },
  {
   "cell_type": "code",
   "execution_count": 66,
   "metadata": {},
   "outputs": [
    {
     "data": {
      "text/plain": [
       "array([[  0.        ,   0.        ,   1.74      ,  96.        ,\n",
       "         31.70828379],\n",
       "       [  0.        ,   1.        ,   1.89      ,  87.        ,\n",
       "         24.35542118],\n",
       "       [  0.        ,   0.        ,   1.85      , 110.        ,\n",
       "         32.14024836],\n",
       "       ...,\n",
       "       [  0.        ,   0.        ,   1.41      , 136.        ,\n",
       "         68.40702178],\n",
       "       [  0.        ,   0.        ,   1.5       ,  95.        ,\n",
       "         42.22222222],\n",
       "       [  1.        ,   0.        ,   1.73      , 131.        ,\n",
       "         43.77025627]])"
      ]
     },
     "execution_count": 66,
     "metadata": {},
     "output_type": "execute_result"
    }
   ],
   "source": [
    "ohe1 = OneHotEncoder(categorical_features = [3])\n",
    "X = ohe1.fit_transform(X).toarray()\n",
    "X = X[:,1:]\n",
    "X"
   ]
  },
  {
   "cell_type": "code",
   "execution_count": 67,
   "metadata": {},
   "outputs": [
    {
     "data": {
      "text/plain": [
       "(400, 5)"
      ]
     },
     "execution_count": 67,
     "metadata": {},
     "output_type": "execute_result"
    }
   ],
   "source": [
    "X_train, X_test, y_train, y_test = train_test_split(X, y, test_size=0.2, random_state =0)\n",
    "X_train.shape"
   ]
  },
  {
   "cell_type": "code",
   "execution_count": 68,
   "metadata": {},
   "outputs": [
    {
     "data": {
      "text/plain": [
       "(100, 5)"
      ]
     },
     "execution_count": 68,
     "metadata": {},
     "output_type": "execute_result"
    }
   ],
   "source": [
    "X_test.shape"
   ]
  },
  {
   "cell_type": "code",
   "execution_count": 69,
   "metadata": {},
   "outputs": [],
   "source": [
    "regressor = RandomForestRegressor(n_estimators = 20, random_state=0)\n",
    "regressor.fit(X_train ,y_train)\n",
    "y_pred = regressor.predict(X_test)"
   ]
  },
  {
   "cell_type": "code",
   "execution_count": 70,
   "metadata": {},
   "outputs": [
    {
     "data": {
      "text/plain": [
       "0.9570907184704435"
      ]
     },
     "execution_count": 70,
     "metadata": {},
     "output_type": "execute_result"
    }
   ],
   "source": [
    "scores = cross_val_score(estimator = regressor, X = X, y = y, cv = 10)\n",
    "scores.mean()"
   ]
  },
  {
   "cell_type": "code",
   "execution_count": 71,
   "metadata": {},
   "outputs": [
    {
     "data": {
      "text/plain": [
       "0.030045462425043586"
      ]
     },
     "execution_count": 71,
     "metadata": {},
     "output_type": "execute_result"
    }
   ],
   "source": [
    "scores.std()"
   ]
  },
  {
   "cell_type": "markdown",
   "metadata": {},
   "source": [
    "This means our predicted daily calorie intake would be correct in 95% of the cases.\n",
    "\n",
    "Our Pre-trained model can be saved as follows:"
   ]
  },
  {
   "cell_type": "code",
   "execution_count": 72,
   "metadata": {},
   "outputs": [
    {
     "data": {
      "text/plain": [
       "\"\\n#Loading a regressor\\nf = open('regressor.pickle','rb')\\nr2 = pickle.load(f)\\nf.close()\\nuser_calories = r2.predict(X_user)\\n\""
      ]
     },
     "execution_count": 72,
     "metadata": {},
     "output_type": "execute_result"
    }
   ],
   "source": [
    "save_reg = open('regressor.pickle','wb')\n",
    "pickle.dump(regressor, save_reg)\n",
    "save_reg.close()\n",
    "\n",
    "'''\n",
    "#Loading a regressor\n",
    "f = open('regressor.pickle','rb')\n",
    "r2 = pickle.load(f)\n",
    "f.close()\n",
    "user_calories = r2.predict(X_user)\n",
    "'''"
   ]
  },
  {
   "cell_type": "code",
   "execution_count": 73,
   "metadata": {},
   "outputs": [
    {
     "data": {
      "text/html": [
       "<div>\n",
       "<style scoped>\n",
       "    .dataframe tbody tr th:only-of-type {\n",
       "        vertical-align: middle;\n",
       "    }\n",
       "\n",
       "    .dataframe tbody tr th {\n",
       "        vertical-align: top;\n",
       "    }\n",
       "\n",
       "    .dataframe thead th {\n",
       "        text-align: right;\n",
       "    }\n",
       "</style>\n",
       "<table border=\"1\" class=\"dataframe\">\n",
       "  <thead>\n",
       "    <tr style=\"text-align: right;\">\n",
       "      <th></th>\n",
       "      <th>9</th>\n",
       "      <th>12</th>\n",
       "      <th>16</th>\n",
       "      <th>19</th>\n",
       "      <th>26</th>\n",
       "      <th>28</th>\n",
       "      <th>32</th>\n",
       "      <th>35</th>\n",
       "      <th>37</th>\n",
       "      <th>46</th>\n",
       "      <th>...</th>\n",
       "      <th>18877</th>\n",
       "      <th>18885</th>\n",
       "      <th>18890</th>\n",
       "      <th>18894</th>\n",
       "      <th>18897</th>\n",
       "      <th>18899</th>\n",
       "      <th>18901</th>\n",
       "      <th>18913</th>\n",
       "      <th>18916</th>\n",
       "      <th>18917</th>\n",
       "    </tr>\n",
       "    <tr>\n",
       "      <th>0</th>\n",
       "      <th></th>\n",
       "      <th></th>\n",
       "      <th></th>\n",
       "      <th></th>\n",
       "      <th></th>\n",
       "      <th></th>\n",
       "      <th></th>\n",
       "      <th></th>\n",
       "      <th></th>\n",
       "      <th></th>\n",
       "      <th></th>\n",
       "      <th></th>\n",
       "      <th></th>\n",
       "      <th></th>\n",
       "      <th></th>\n",
       "      <th></th>\n",
       "      <th></th>\n",
       "      <th></th>\n",
       "      <th></th>\n",
       "      <th></th>\n",
       "      <th></th>\n",
       "    </tr>\n",
       "  </thead>\n",
       "  <tbody>\n",
       "    <tr>\n",
       "      <th>afanbunch</th>\n",
       "      <td>1.8</td>\n",
       "      <td>0.0</td>\n",
       "      <td>0.0</td>\n",
       "      <td>0.0</td>\n",
       "      <td>0.0</td>\n",
       "      <td>3.5</td>\n",
       "      <td>0.0</td>\n",
       "      <td>0.0</td>\n",
       "      <td>0.0</td>\n",
       "      <td>0.0</td>\n",
       "      <td>...</td>\n",
       "      <td>0.0</td>\n",
       "      <td>2.3</td>\n",
       "      <td>0.0</td>\n",
       "      <td>0.0</td>\n",
       "      <td>0.0</td>\n",
       "      <td>0.0</td>\n",
       "      <td>0.0</td>\n",
       "      <td>0.0</td>\n",
       "      <td>4.7</td>\n",
       "      <td>0.0</td>\n",
       "    </tr>\n",
       "    <tr>\n",
       "      <th>samsongiglet</th>\n",
       "      <td>0.0</td>\n",
       "      <td>0.0</td>\n",
       "      <td>1.6</td>\n",
       "      <td>0.0</td>\n",
       "      <td>0.0</td>\n",
       "      <td>2.6</td>\n",
       "      <td>4.2</td>\n",
       "      <td>1.6</td>\n",
       "      <td>2.2</td>\n",
       "      <td>0.0</td>\n",
       "      <td>...</td>\n",
       "      <td>0.0</td>\n",
       "      <td>0.0</td>\n",
       "      <td>2.7</td>\n",
       "      <td>0.0</td>\n",
       "      <td>0.0</td>\n",
       "      <td>0.0</td>\n",
       "      <td>2.9</td>\n",
       "      <td>0.0</td>\n",
       "      <td>0.0</td>\n",
       "      <td>0.0</td>\n",
       "    </tr>\n",
       "    <tr>\n",
       "      <th>blakesidaho</th>\n",
       "      <td>0.0</td>\n",
       "      <td>0.0</td>\n",
       "      <td>0.0</td>\n",
       "      <td>3.0</td>\n",
       "      <td>0.0</td>\n",
       "      <td>0.0</td>\n",
       "      <td>0.0</td>\n",
       "      <td>0.0</td>\n",
       "      <td>2.4</td>\n",
       "      <td>2.8</td>\n",
       "      <td>...</td>\n",
       "      <td>2.4</td>\n",
       "      <td>2.6</td>\n",
       "      <td>0.0</td>\n",
       "      <td>0.0</td>\n",
       "      <td>0.0</td>\n",
       "      <td>0.0</td>\n",
       "      <td>4.3</td>\n",
       "      <td>0.0</td>\n",
       "      <td>0.0</td>\n",
       "      <td>0.0</td>\n",
       "    </tr>\n",
       "    <tr>\n",
       "      <th>arrocharlady</th>\n",
       "      <td>0.0</td>\n",
       "      <td>0.0</td>\n",
       "      <td>0.0</td>\n",
       "      <td>0.0</td>\n",
       "      <td>0.0</td>\n",
       "      <td>2.2</td>\n",
       "      <td>4.0</td>\n",
       "      <td>0.0</td>\n",
       "      <td>4.7</td>\n",
       "      <td>2.4</td>\n",
       "      <td>...</td>\n",
       "      <td>0.0</td>\n",
       "      <td>0.0</td>\n",
       "      <td>0.0</td>\n",
       "      <td>1.7</td>\n",
       "      <td>0.0</td>\n",
       "      <td>0.0</td>\n",
       "      <td>0.0</td>\n",
       "      <td>1.3</td>\n",
       "      <td>3.2</td>\n",
       "      <td>0.0</td>\n",
       "    </tr>\n",
       "    <tr>\n",
       "      <th>fletchmittens</th>\n",
       "      <td>1.5</td>\n",
       "      <td>4.9</td>\n",
       "      <td>4.3</td>\n",
       "      <td>0.0</td>\n",
       "      <td>0.0</td>\n",
       "      <td>0.0</td>\n",
       "      <td>0.0</td>\n",
       "      <td>1.7</td>\n",
       "      <td>2.6</td>\n",
       "      <td>0.0</td>\n",
       "      <td>...</td>\n",
       "      <td>3.0</td>\n",
       "      <td>0.0</td>\n",
       "      <td>2.1</td>\n",
       "      <td>0.0</td>\n",
       "      <td>0.0</td>\n",
       "      <td>4.3</td>\n",
       "      <td>0.0</td>\n",
       "      <td>2.1</td>\n",
       "      <td>0.0</td>\n",
       "      <td>0.0</td>\n",
       "    </tr>\n",
       "  </tbody>\n",
       "</table>\n",
       "<p>5 rows × 5000 columns</p>\n",
       "</div>"
      ],
      "text/plain": [
       "                 9   12   16   19   26   28   32   35   37   46  ...    18877  \\\n",
       "0                                                                ...            \n",
       "afanbunch      1.8  0.0  0.0  0.0  0.0  3.5  0.0  0.0  0.0  0.0  ...      0.0   \n",
       "samsongiglet   0.0  0.0  1.6  0.0  0.0  2.6  4.2  1.6  2.2  0.0  ...      0.0   \n",
       "blakesidaho    0.0  0.0  0.0  3.0  0.0  0.0  0.0  0.0  2.4  2.8  ...      2.4   \n",
       "arrocharlady   0.0  0.0  0.0  0.0  0.0  2.2  4.0  0.0  4.7  2.4  ...      0.0   \n",
       "fletchmittens  1.5  4.9  4.3  0.0  0.0  0.0  0.0  1.7  2.6  0.0  ...      3.0   \n",
       "\n",
       "               18885  18890  18894  18897  18899  18901  18913  18916  18917  \n",
       "0                                                                             \n",
       "afanbunch        2.3    0.0    0.0    0.0    0.0    0.0    0.0    4.7    0.0  \n",
       "samsongiglet     0.0    2.7    0.0    0.0    0.0    2.9    0.0    0.0    0.0  \n",
       "blakesidaho      2.6    0.0    0.0    0.0    0.0    4.3    0.0    0.0    0.0  \n",
       "arrocharlady     0.0    0.0    1.7    0.0    0.0    0.0    1.3    3.2    0.0  \n",
       "fletchmittens    0.0    2.1    0.0    0.0    4.3    0.0    2.1    0.0    0.0  \n",
       "\n",
       "[5 rows x 5000 columns]"
      ]
     },
     "execution_count": 73,
     "metadata": {},
     "output_type": "execute_result"
    }
   ],
   "source": [
    "user_ratings = pd.read_csv('user_ratings.csv', index_col=0)\n",
    "user_ratings.head()"
   ]
  },
  {
   "cell_type": "markdown",
   "metadata": {},
   "source": [
    "This sparse matrix contains the record of users(rows) of how much they have liked a food-item(columns) on a scale of 1-5.\n",
    "The user have not rated all the food they ate, which are represented by 0 (means NaN)"
   ]
  },
  {
   "cell_type": "code",
   "execution_count": 74,
   "metadata": {},
   "outputs": [
    {
     "data": {
      "text/plain": [
       "(67, 10)"
      ]
     },
     "execution_count": 74,
     "metadata": {},
     "output_type": "execute_result"
    }
   ],
   "source": [
    "SVD = TruncatedSVD(n_components=10)\n",
    "user_based_group = SVD.fit_transform(user_ratings)\n",
    "user_based_group.shape"
   ]
  },
  {
   "cell_type": "code",
   "execution_count": 75,
   "metadata": {},
   "outputs": [
    {
     "data": {
      "text/plain": [
       "(5000, 10)"
      ]
     },
     "execution_count": 75,
     "metadata": {},
     "output_type": "execute_result"
    }
   ],
   "source": [
    "food_based_group = SVD.fit_transform(user_ratings.T)\n",
    "food_based_group.shape"
   ]
  },
  {
   "cell_type": "code",
   "execution_count": 76,
   "metadata": {},
   "outputs": [
    {
     "data": {
      "text/plain": [
       "array([[1.        , 0.83700928, 0.81832517, ..., 0.81123124, 0.79114058,\n",
       "        0.83234728],\n",
       "       [0.83700928, 1.        , 0.78021554, ..., 0.8605417 , 0.89058761,\n",
       "        0.83906788],\n",
       "       [0.81832517, 0.78021554, 1.        , ..., 0.88097054, 0.71484302,\n",
       "        0.80045148],\n",
       "       ...,\n",
       "       [0.81123124, 0.8605417 , 0.88097054, ..., 1.        , 0.79620949,\n",
       "        0.79082264],\n",
       "       [0.79114058, 0.89058761, 0.71484302, ..., 0.79620949, 1.        ,\n",
       "        0.92131378],\n",
       "       [0.83234728, 0.83906788, 0.80045148, ..., 0.79082264, 0.92131378,\n",
       "        1.        ]])"
      ]
     },
     "execution_count": 76,
     "metadata": {},
     "output_type": "execute_result"
    }
   ],
   "source": [
    "corr_user = np.corrcoef(user_based_group)\n",
    "corr_user"
   ]
  },
  {
   "cell_type": "markdown",
   "metadata": {},
   "source": [
    "We are concerned with knowing the similar user taste so that we can recommend what other user enjoys based on their ratings. So, we find the **Pearson Correlation Coefficient** for the same "
   ]
  },
  {
   "cell_type": "code",
   "execution_count": 77,
   "metadata": {},
   "outputs": [
    {
     "data": {
      "text/plain": [
       "<matplotlib.axes._subplots.AxesSubplot at 0x7f533cebf828>"
      ]
     },
     "execution_count": 77,
     "metadata": {},
     "output_type": "execute_result"
    },
    {
     "data": {
      "image/png": "[encoded data removed]",
      "text/plain": [
       "<Figure size 1080x1080 with 2 Axes>"
      ]
     },
     "metadata": {},
     "output_type": "display_data"
    }
   ],
   "source": [
    "_, ax = plt.subplots(figsize=(15,15))\n",
    "sns.heatmap(corr_user, xticklabels= user_ratings.index, yticklabels = user_ratings.index, vmin=0.90, vmax=0.999, ax=ax)"
   ]
  },
  {
   "cell_type": "markdown",
   "metadata": {},
   "source": [
    "We will only be considering the coefficient values above 0.9 for each user, as can clearly be seen in the above heatmap."
   ]
  },
  {
   "cell_type": "code",
   "execution_count": 78,
   "metadata": {},
   "outputs": [
    {
     "data": {
      "text/html": [
       "<div>\n",
       "<style scoped>\n",
       "    .dataframe tbody tr th:only-of-type {\n",
       "        vertical-align: middle;\n",
       "    }\n",
       "\n",
       "    .dataframe tbody tr th {\n",
       "        vertical-align: top;\n",
       "    }\n",
       "\n",
       "    .dataframe thead th {\n",
       "        text-align: right;\n",
       "    }\n",
       "</style>\n",
       "<table border=\"1\" class=\"dataframe\">\n",
       "  <thead>\n",
       "    <tr style=\"text-align: right;\">\n",
       "      <th></th>\n",
       "      <th>foodID</th>\n",
       "      <th>calories</th>\n",
       "      <th>categories</th>\n",
       "      <th>fat</th>\n",
       "      <th>protein</th>\n",
       "      <th>sodium</th>\n",
       "      <th>title</th>\n",
       "      <th>3</th>\n",
       "      <th>4</th>\n",
       "      <th>7</th>\n",
       "      <th>...</th>\n",
       "      <th>698</th>\n",
       "      <th>701</th>\n",
       "      <th>702</th>\n",
       "      <th>704</th>\n",
       "      <th>705</th>\n",
       "      <th>706</th>\n",
       "      <th>708</th>\n",
       "      <th>709</th>\n",
       "      <th>711</th>\n",
       "      <th>713</th>\n",
       "    </tr>\n",
       "  </thead>\n",
       "  <tbody>\n",
       "    <tr>\n",
       "      <th>0</th>\n",
       "      <td>9</td>\n",
       "      <td>602.0</td>\n",
       "      <td>['Salad', 'Mustard', 'Potato', 'Picnic', 'Lunc...</td>\n",
       "      <td>41.0</td>\n",
       "      <td>23.0</td>\n",
       "      <td>1696.0</td>\n",
       "      <td>Ham Persillade with Mustard Potato Salad and M...</td>\n",
       "      <td>0</td>\n",
       "      <td>0</td>\n",
       "      <td>0</td>\n",
       "      <td>...</td>\n",
       "      <td>0</td>\n",
       "      <td>0</td>\n",
       "      <td>0</td>\n",
       "      <td>0</td>\n",
       "      <td>0</td>\n",
       "      <td>0</td>\n",
       "      <td>0</td>\n",
       "      <td>0</td>\n",
       "      <td>0</td>\n",
       "      <td>0</td>\n",
       "    </tr>\n",
       "    <tr>\n",
       "      <th>1</th>\n",
       "      <td>12</td>\n",
       "      <td>766.0</td>\n",
       "      <td>['Cake', 'Chocolate', 'Fruit', 'Dessert', 'Bak...</td>\n",
       "      <td>48.0</td>\n",
       "      <td>12.0</td>\n",
       "      <td>439.0</td>\n",
       "      <td>Banana-Chocolate Chip Cake With Peanut Butter ...</td>\n",
       "      <td>0</td>\n",
       "      <td>0</td>\n",
       "      <td>0</td>\n",
       "      <td>...</td>\n",
       "      <td>0</td>\n",
       "      <td>0</td>\n",
       "      <td>0</td>\n",
       "      <td>0</td>\n",
       "      <td>0</td>\n",
       "      <td>0</td>\n",
       "      <td>0</td>\n",
       "      <td>0</td>\n",
       "      <td>0</td>\n",
       "      <td>0</td>\n",
       "    </tr>\n",
       "    <tr>\n",
       "      <th>2</th>\n",
       "      <td>16</td>\n",
       "      <td>146.0</td>\n",
       "      <td>['Bread', 'Milk/Cream', 'Breakfast', 'Brunch',...</td>\n",
       "      <td>5.0</td>\n",
       "      <td>4.0</td>\n",
       "      <td>160.0</td>\n",
       "      <td>Sweet Buttermilk Spoon Breads</td>\n",
       "      <td>0</td>\n",
       "      <td>0</td>\n",
       "      <td>0</td>\n",
       "      <td>...</td>\n",
       "      <td>0</td>\n",
       "      <td>0</td>\n",
       "      <td>0</td>\n",
       "      <td>0</td>\n",
       "      <td>0</td>\n",
       "      <td>1</td>\n",
       "      <td>0</td>\n",
       "      <td>0</td>\n",
       "      <td>0</td>\n",
       "      <td>0</td>\n",
       "    </tr>\n",
       "    <tr>\n",
       "      <th>3</th>\n",
       "      <td>19</td>\n",
       "      <td>421.0</td>\n",
       "      <td>['Potato', 'High Fiber', 'Lunch', 'Tuna', 'Asp...</td>\n",
       "      <td>33.0</td>\n",
       "      <td>10.0</td>\n",
       "      <td>383.0</td>\n",
       "      <td>Tuna, Asparagus, and New Potato Salad with Chi...</td>\n",
       "      <td>0</td>\n",
       "      <td>0</td>\n",
       "      <td>0</td>\n",
       "      <td>...</td>\n",
       "      <td>0</td>\n",
       "      <td>0</td>\n",
       "      <td>0</td>\n",
       "      <td>0</td>\n",
       "      <td>0</td>\n",
       "      <td>0</td>\n",
       "      <td>0</td>\n",
       "      <td>0</td>\n",
       "      <td>0</td>\n",
       "      <td>0</td>\n",
       "    </tr>\n",
       "    <tr>\n",
       "      <th>4</th>\n",
       "      <td>26</td>\n",
       "      <td>215.0</td>\n",
       "      <td>['Egg', 'Herb', 'Vegetable', 'Side', 'Easter',...</td>\n",
       "      <td>20.0</td>\n",
       "      <td>6.0</td>\n",
       "      <td>250.0</td>\n",
       "      <td>Cucumber-Basil Egg Salad</td>\n",
       "      <td>0</td>\n",
       "      <td>1</td>\n",
       "      <td>0</td>\n",
       "      <td>...</td>\n",
       "      <td>0</td>\n",
       "      <td>0</td>\n",
       "      <td>0</td>\n",
       "      <td>0</td>\n",
       "      <td>0</td>\n",
       "      <td>0</td>\n",
       "      <td>0</td>\n",
       "      <td>0</td>\n",
       "      <td>0</td>\n",
       "      <td>0</td>\n",
       "    </tr>\n",
       "  </tbody>\n",
       "</table>\n",
       "<p>5 rows × 435 columns</p>\n",
       "</div>"
      ],
      "text/plain": [
       "   foodID  calories                                         categories   fat  \\\n",
       "0       9     602.0  ['Salad', 'Mustard', 'Potato', 'Picnic', 'Lunc...  41.0   \n",
       "1      12     766.0  ['Cake', 'Chocolate', 'Fruit', 'Dessert', 'Bak...  48.0   \n",
       "2      16     146.0  ['Bread', 'Milk/Cream', 'Breakfast', 'Brunch',...   5.0   \n",
       "3      19     421.0  ['Potato', 'High Fiber', 'Lunch', 'Tuna', 'Asp...  33.0   \n",
       "4      26     215.0  ['Egg', 'Herb', 'Vegetable', 'Side', 'Easter',...  20.0   \n",
       "\n",
       "   protein  sodium                                              title  3  4  \\\n",
       "0     23.0  1696.0  Ham Persillade with Mustard Potato Salad and M...  0  0   \n",
       "1     12.0   439.0  Banana-Chocolate Chip Cake With Peanut Butter ...  0  0   \n",
       "2      4.0   160.0                     Sweet Buttermilk Spoon Breads   0  0   \n",
       "3     10.0   383.0  Tuna, Asparagus, and New Potato Salad with Chi...  0  0   \n",
       "4      6.0   250.0                          Cucumber-Basil Egg Salad   0  1   \n",
       "\n",
       "   7 ...   698  701  702  704  705  706  708  709  711  713  \n",
       "0  0 ...     0    0    0    0    0    0    0    0    0    0  \n",
       "1  0 ...     0    0    0    0    0    0    0    0    0    0  \n",
       "2  0 ...     0    0    0    0    0    1    0    0    0    0  \n",
       "3  0 ...     0    0    0    0    0    0    0    0    0    0  \n",
       "4  0 ...     0    0    0    0    0    0    0    0    0    0  \n",
       "\n",
       "[5 rows x 435 columns]"
      ]
     },
     "execution_count": 78,
     "metadata": {},
     "output_type": "execute_result"
    }
   ],
   "source": [
    "food_details = pd.read_csv('final.csv')\n",
    "food_details.head()"
   ]
  },
  {
   "cell_type": "code",
   "execution_count": 81,
   "metadata": {},
   "outputs": [
    {
     "data": {
      "text/plain": [
       "array([[  0.        ,   0.        ,   1.74      ,  96.        ,\n",
       "         31.70828379],\n",
       "       [  0.        ,   1.        ,   1.89      ,  87.        ,\n",
       "         24.35542118],\n",
       "       [  0.        ,   0.        ,   1.85      , 110.        ,\n",
       "         32.14024836],\n",
       "       ...,\n",
       "       [  0.        ,   0.        ,   1.41      , 136.        ,\n",
       "         68.40702178],\n",
       "       [  0.        ,   0.        ,   1.5       ,  95.        ,\n",
       "         42.22222222],\n",
       "       [  1.        ,   0.        ,   1.73      , 131.        ,\n",
       "         43.77025627]])"
      ]
     },
     "execution_count": 81,
     "metadata": {},
     "output_type": "execute_result"
    }
   ],
   "source": [
    "X_food = food_details.iloc[:, 1:]\n",
    "X_food = X_food.drop(['calories','protein','fat','categories','sodium','title'],axis=1) \n",
    "X_food = X_food.set_index(food_details.foodID)\n",
    "X"
   ]
  },
  {
   "cell_type": "code",
   "execution_count": 94,
   "metadata": {},
   "outputs": [
    {
     "data": {
      "text/html": [
       "<div>\n",
       "<style scoped>\n",
       "    .dataframe tbody tr th:only-of-type {\n",
       "        vertical-align: middle;\n",
       "    }\n",
       "\n",
       "    .dataframe tbody tr th {\n",
       "        vertical-align: top;\n",
       "    }\n",
       "\n",
       "    .dataframe thead th {\n",
       "        text-align: right;\n",
       "    }\n",
       "</style>\n",
       "<table border=\"1\" class=\"dataframe\">\n",
       "  <thead>\n",
       "    <tr style=\"text-align: right;\">\n",
       "      <th></th>\n",
       "      <th>0</th>\n",
       "      <th>1</th>\n",
       "      <th>2</th>\n",
       "      <th>3</th>\n",
       "      <th>4</th>\n",
       "      <th>5</th>\n",
       "      <th>6</th>\n",
       "      <th>7</th>\n",
       "      <th>8</th>\n",
       "      <th>9</th>\n",
       "      <th>...</th>\n",
       "      <th>50</th>\n",
       "      <th>51</th>\n",
       "      <th>52</th>\n",
       "      <th>53</th>\n",
       "      <th>54</th>\n",
       "      <th>55</th>\n",
       "      <th>56</th>\n",
       "      <th>57</th>\n",
       "      <th>58</th>\n",
       "      <th>59</th>\n",
       "    </tr>\n",
       "    <tr>\n",
       "      <th>foodID</th>\n",
       "      <th></th>\n",
       "      <th></th>\n",
       "      <th></th>\n",
       "      <th></th>\n",
       "      <th></th>\n",
       "      <th></th>\n",
       "      <th></th>\n",
       "      <th></th>\n",
       "      <th></th>\n",
       "      <th></th>\n",
       "      <th></th>\n",
       "      <th></th>\n",
       "      <th></th>\n",
       "      <th></th>\n",
       "      <th></th>\n",
       "      <th></th>\n",
       "      <th></th>\n",
       "      <th></th>\n",
       "      <th></th>\n",
       "      <th></th>\n",
       "      <th></th>\n",
       "    </tr>\n",
       "  </thead>\n",
       "  <tbody>\n",
       "    <tr>\n",
       "      <th>9</th>\n",
       "      <td>2.479466</td>\n",
       "      <td>-0.800722</td>\n",
       "      <td>-0.407238</td>\n",
       "      <td>0.198730</td>\n",
       "      <td>-1.256370</td>\n",
       "      <td>0.495130</td>\n",
       "      <td>-0.287964</td>\n",
       "      <td>0.091194</td>\n",
       "      <td>0.016568</td>\n",
       "      <td>-0.118602</td>\n",
       "      <td>...</td>\n",
       "      <td>0.220446</td>\n",
       "      <td>0.122989</td>\n",
       "      <td>0.181667</td>\n",
       "      <td>-0.214790</td>\n",
       "      <td>0.339954</td>\n",
       "      <td>-0.160438</td>\n",
       "      <td>-0.244196</td>\n",
       "      <td>-0.025301</td>\n",
       "      <td>0.081044</td>\n",
       "      <td>0.212374</td>\n",
       "    </tr>\n",
       "    <tr>\n",
       "      <th>12</th>\n",
       "      <td>2.715094</td>\n",
       "      <td>2.196650</td>\n",
       "      <td>0.544600</td>\n",
       "      <td>-0.474056</td>\n",
       "      <td>0.186128</td>\n",
       "      <td>0.147699</td>\n",
       "      <td>-0.010808</td>\n",
       "      <td>-0.722765</td>\n",
       "      <td>-0.009604</td>\n",
       "      <td>-0.214561</td>\n",
       "      <td>...</td>\n",
       "      <td>-0.052376</td>\n",
       "      <td>-0.082633</td>\n",
       "      <td>0.260575</td>\n",
       "      <td>0.055987</td>\n",
       "      <td>0.420558</td>\n",
       "      <td>0.143491</td>\n",
       "      <td>-0.081822</td>\n",
       "      <td>-0.026900</td>\n",
       "      <td>-0.159422</td>\n",
       "      <td>0.118886</td>\n",
       "    </tr>\n",
       "    <tr>\n",
       "      <th>16</th>\n",
       "      <td>3.285115</td>\n",
       "      <td>2.173067</td>\n",
       "      <td>0.425611</td>\n",
       "      <td>-0.607339</td>\n",
       "      <td>-0.137839</td>\n",
       "      <td>-0.230782</td>\n",
       "      <td>-0.333966</td>\n",
       "      <td>0.730670</td>\n",
       "      <td>0.149327</td>\n",
       "      <td>-0.047117</td>\n",
       "      <td>...</td>\n",
       "      <td>0.089878</td>\n",
       "      <td>0.600565</td>\n",
       "      <td>-0.276427</td>\n",
       "      <td>0.114567</td>\n",
       "      <td>-0.049432</td>\n",
       "      <td>-0.063632</td>\n",
       "      <td>-0.168329</td>\n",
       "      <td>0.287716</td>\n",
       "      <td>0.137502</td>\n",
       "      <td>0.069831</td>\n",
       "    </tr>\n",
       "    <tr>\n",
       "      <th>19</th>\n",
       "      <td>2.758737</td>\n",
       "      <td>0.438775</td>\n",
       "      <td>0.973409</td>\n",
       "      <td>0.763720</td>\n",
       "      <td>-0.605207</td>\n",
       "      <td>-0.318581</td>\n",
       "      <td>-0.092752</td>\n",
       "      <td>-0.004107</td>\n",
       "      <td>0.217826</td>\n",
       "      <td>-0.401007</td>\n",
       "      <td>...</td>\n",
       "      <td>-0.267456</td>\n",
       "      <td>0.245944</td>\n",
       "      <td>0.030680</td>\n",
       "      <td>-0.205271</td>\n",
       "      <td>0.027923</td>\n",
       "      <td>-0.111050</td>\n",
       "      <td>-0.090112</td>\n",
       "      <td>-0.153075</td>\n",
       "      <td>0.137658</td>\n",
       "      <td>0.071082</td>\n",
       "    </tr>\n",
       "    <tr>\n",
       "      <th>26</th>\n",
       "      <td>3.738608</td>\n",
       "      <td>0.211728</td>\n",
       "      <td>-0.547477</td>\n",
       "      <td>-0.015350</td>\n",
       "      <td>-0.532686</td>\n",
       "      <td>0.763621</td>\n",
       "      <td>-0.927444</td>\n",
       "      <td>-0.765827</td>\n",
       "      <td>-0.080826</td>\n",
       "      <td>-0.204085</td>\n",
       "      <td>...</td>\n",
       "      <td>-0.145887</td>\n",
       "      <td>-0.364869</td>\n",
       "      <td>0.016272</td>\n",
       "      <td>0.149478</td>\n",
       "      <td>-0.188656</td>\n",
       "      <td>0.124731</td>\n",
       "      <td>-0.044696</td>\n",
       "      <td>0.232574</td>\n",
       "      <td>-0.250170</td>\n",
       "      <td>0.075052</td>\n",
       "    </tr>\n",
       "  </tbody>\n",
       "</table>\n",
       "<p>5 rows × 60 columns</p>\n",
       "</div>"
      ],
      "text/plain": [
       "              0         1         2         3         4         5         6   \\\n",
       "foodID                                                                         \n",
       "9       2.479466 -0.800722 -0.407238  0.198730 -1.256370  0.495130 -0.287964   \n",
       "12      2.715094  2.196650  0.544600 -0.474056  0.186128  0.147699 -0.010808   \n",
       "16      3.285115  2.173067  0.425611 -0.607339 -0.137839 -0.230782 -0.333966   \n",
       "19      2.758737  0.438775  0.973409  0.763720 -0.605207 -0.318581 -0.092752   \n",
       "26      3.738608  0.211728 -0.547477 -0.015350 -0.532686  0.763621 -0.927444   \n",
       "\n",
       "              7         8         9     ...           50        51        52  \\\n",
       "foodID                                  ...                                    \n",
       "9       0.091194  0.016568 -0.118602    ...     0.220446  0.122989  0.181667   \n",
       "12     -0.722765 -0.009604 -0.214561    ...    -0.052376 -0.082633  0.260575   \n",
       "16      0.730670  0.149327 -0.047117    ...     0.089878  0.600565 -0.276427   \n",
       "19     -0.004107  0.217826 -0.401007    ...    -0.267456  0.245944  0.030680   \n",
       "26     -0.765827 -0.080826 -0.204085    ...    -0.145887 -0.364869  0.016272   \n",
       "\n",
       "              53        54        55        56        57        58        59  \n",
       "foodID                                                                        \n",
       "9      -0.214790  0.339954 -0.160438 -0.244196 -0.025301  0.081044  0.212374  \n",
       "12      0.055987  0.420558  0.143491 -0.081822 -0.026900 -0.159422  0.118886  \n",
       "16      0.114567 -0.049432 -0.063632 -0.168329  0.287716  0.137502  0.069831  \n",
       "19     -0.205271  0.027923 -0.111050 -0.090112 -0.153075  0.137658  0.071082  \n",
       "26      0.149478 -0.188656  0.124731 -0.044696  0.232574 -0.250170  0.075052  \n",
       "\n",
       "[5 rows x 60 columns]"
      ]
     },
     "execution_count": 94,
     "metadata": {},
     "output_type": "execute_result"
    }
   ],
   "source": [
    "SVD = TruncatedSVD(n_components=60, random_state=0)\n",
    "new_X = SVD.fit_transform(X_food)\n",
    "new_X = pd.DataFrame(new_X, index = food_details.foodID)\n",
    "new_X.head()"
   ]
  },
  {
   "cell_type": "code",
   "execution_count": 90,
   "metadata": {},
   "outputs": [
    {
     "data": {
      "image/png": "[encoded data removed]",
      "text/plain": [
       "<Figure size 1440x504 with 1 Axes>"
      ]
     },
     "metadata": {},
     "output_type": "display_data"
    }
   ],
   "source": [
    "import scipy.cluster.hierarchy as sch\n",
    "plt.subplots(figsize=(20,7))\n",
    "plt.axhline(y=24)\n",
    "plt.ylabel(\"No. of Clusters\")\n",
    "plt.xlabel(\"Features (ingredients)\")\n",
    "dendrogram = sch.dendrogram(sch.linkage(new_X, method=\"ward\"))"
   ]
  },
  {
   "cell_type": "markdown",
   "metadata": {},
   "source": [
    "We will be considering K=24 clusters to put similar food into the same category. \n",
    "\n",
    "Apply K-Means Clustering afterwards"
   ]
  },
  {
   "cell_type": "code",
   "execution_count": 95,
   "metadata": {},
   "outputs": [],
   "source": [
    "kmeans = KMeans(n_clusters = 24)\n",
    "y_means = kmeans.fit_predict(new_X)"
   ]
  },
  {
   "cell_type": "code",
   "execution_count": 96,
   "metadata": {},
   "outputs": [
    {
     "data": {
      "text/plain": [
       "array([20,  6, 14, ...,  3, 10, 16], dtype=int32)"
      ]
     },
     "execution_count": 96,
     "metadata": {},
     "output_type": "execute_result"
    }
   ],
   "source": [
    "y_means"
   ]
  },
  {
   "cell_type": "markdown",
   "metadata": {},
   "source": [
    "Through the use of above model, using user's BMI we can predict his daily calorie requirement using **Calorie prediction model**. Ask for user's feedback about different food items and store as ratings. Use the cluster of similar food items that we created above. Recommend other food items belonging to that cluster and also similar user taste preferences. "
   ]
  },
  {
   "cell_type": "markdown",
   "metadata": {},
   "source": [
    "This will generate a corresponding food dataset for each user. This dataset can then be processed to extract food as per need for breakfast, lunch or dinner. The sum of calorie consumed per day should satisfy daily calorie requirement."
   ]
  },
  {
   "cell_type": "markdown",
   "metadata": {},
   "source": [
    "In this way Clustering algorithms and Dimensionality reduction techniques can be used to produce a simple food recommender systems. There is always a scope for improving the efficiency and accuracy of the model."
   ]
  }
 ],
 "metadata": {
  "kernelspec": {
   "display_name": "Python 3",
   "language": "python",
   "name": "python3"
  },
  "language_info": {
   "codemirror_mode": {
    "name": "ipython",
    "version": 3
   },
   "file_extension": ".py",
   "mimetype": "text/x-python",
   "name": "python",
   "nbconvert_exporter": "python",
   "pygments_lexer": "ipython3",
   "version": "3.6.5"
  }
 },
 "nbformat": 4,
 "nbformat_minor": 2
}
